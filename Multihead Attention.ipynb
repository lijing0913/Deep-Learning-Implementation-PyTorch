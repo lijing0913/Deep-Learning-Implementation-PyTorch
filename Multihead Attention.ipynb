{
 "cells": [
  {
   "cell_type": "markdown",
   "id": "d3c7b006",
   "metadata": {
    "origin_pos": 1
   },
   "source": [
    "# Multi-Head Attention\n",
    "\n",
    "\n",
    "In practice, given the same set \n",
    "of queries, keys, and values\n",
    "we may want our model to\n",
    "combine knowledge from\n",
    "different behaviors of the same attention mechanism,\n",
    "such as capturing dependencies of various ranges\n",
    "(e.g., shorter-range vs. longer-range) within a sequence.\n",
    "Thus,  it may be beneficial  \n",
    "to allow our attention mechanism\n",
    "to jointly use different representation subspaces\n",
    "of queries, keys, and values.\n",
    "\n",
    "\n",
    "\n",
    "To this end, instead of performing \n",
    "a single attention pooling,\n",
    "queries, keys, and values\n",
    "can be transformed\n",
    "with $h$ independently learned linear projections.\n",
    "Then these $h$ projected queries, keys, and values\n",
    "are fed into attention pooling in parallel.\n",
    "In the end,\n",
    "$h$ attention pooling outputs\n",
    "are concatenated and \n",
    "transformed with another learned linear projection\n",
    "to produce the final output.\n",
    "This design\n",
    "is called *multi-head attention*,\n",
    "where each of the $h$ attention pooling outputs\n",
    "is a *head* (`Vaswani.Shazeer.Parmar.ea.2017`).\n",
    "\n",
    "## Model\n",
    "\n",
    "Before providing the implementation of multi-head attention,\n",
    "let's formalize this model mathematically.\n",
    "Given a query $\\mathbf{q} \\in \\mathbb{R}^{d_q}$,\n",
    "a key $\\mathbf{k} \\in \\mathbb{R}^{d_k}$,\n",
    "and a value $\\mathbf{v} \\in \\mathbb{R}^{d_v}$,\n",
    "each attention head $\\mathbf{h}_i$  ($i = 1, \\ldots, h$)\n",
    "is computed as\n",
    "\n",
    "$$\\mathbf{h}_i = f(\\mathbf W_i^{(q)}\\mathbf q, \\mathbf W_i^{(k)}\\mathbf k,\\mathbf W_i^{(v)}\\mathbf v) \\in \\mathbb R^{p_v},$$\n",
    "\n",
    "where learnable parameters\n",
    "$\\mathbf W_i^{(q)}\\in\\mathbb R^{p_q\\times d_q}$,\n",
    "$\\mathbf W_i^{(k)}\\in\\mathbb R^{p_k\\times d_k}$\n",
    "and $\\mathbf W_i^{(v)}\\in\\mathbb R^{p_v\\times d_v}$,\n",
    "and\n",
    "$f$ is attention pooling,\n",
    "such as\n",
    "additive attention and scaled dot-product attention.\n",
    "The multi-head attention output\n",
    "is another linear transformation via \n",
    "learnable parameters\n",
    "$\\mathbf W_o\\in\\mathbb R^{p_o\\times h p_v}$\n",
    "of the concatenation of $h$ heads:\n",
    "\n",
    "$$\\mathbf W_o \\begin{bmatrix}\\mathbf h_1\\\\\\vdots\\\\\\mathbf h_h\\end{bmatrix} \\in \\mathbb{R}^{p_o}.$$\n",
    "\n",
    "Based on this design, each head may attend\n",
    "to different parts of the input.\n",
    "More sophisticated functions \n",
    "than the simple weighted average can be expressed.\n"
   ]
  },
  {
   "cell_type": "code",
   "execution_count": 1,
   "id": "1842efe5",
   "metadata": {
    "execution": {
     "iopub.execute_input": "2022-12-14T05:43:52.449016Z",
     "iopub.status.busy": "2022-12-14T05:43:52.448523Z",
     "iopub.status.idle": "2022-12-14T05:43:54.762242Z",
     "shell.execute_reply": "2022-12-14T05:43:54.761393Z"
    },
    "origin_pos": 3,
    "tab": [
     "pytorch"
    ]
   },
   "outputs": [],
   "source": [
    "import math\n",
    "import torch\n",
    "from torch import nn\n",
    "from d2l import torch as d2l"
   ]
  },
  {
   "cell_type": "markdown",
   "id": "720d9f53",
   "metadata": {
    "origin_pos": 6
   },
   "source": [
    "## Implementation\n",
    "\n",
    "In our implementation,\n",
    "we **choose the scaled dot-product attention\n",
    "for each head** of the multi-head attention.\n",
    "To avoid significant growth of computational cost and parameterization cost,\n",
    "we set $p_q = p_k = p_v = p_o / h$.\n",
    "Note that $h$ heads can be computed in parallel\n",
    "if we set the number of outputs \n",
    "of linear transformations\n",
    "for the query, key, and value\n",
    "to $p_q h = p_k h = p_v h = p_o$.\n",
    "In the following implementation,\n",
    "$p_o$ is specified via the argument `num_hiddens`.\n"
   ]
  },
  {
   "cell_type": "code",
   "execution_count": 4,
   "id": "ef355559",
   "metadata": {
    "execution": {
     "iopub.execute_input": "2022-12-14T05:43:54.766231Z",
     "iopub.status.busy": "2022-12-14T05:43:54.765672Z",
     "iopub.status.idle": "2022-12-14T05:43:54.774274Z",
     "shell.execute_reply": "2022-12-14T05:43:54.773460Z"
    },
    "origin_pos": 8,
    "tab": [
     "pytorch"
    ]
   },
   "outputs": [],
   "source": [
    "class MultiHeadAttention(nn.Module):\n",
    "    \"\"\"Multi-head attention.\"\"\"\n",
    "    def __init__(self, key_size, query_size, value_size, num_hiddens,\n",
    "                 num_heads, dropout, bias=False, **kwargs):\n",
    "        super(MultiHeadAttention, self).__init__(**kwargs)\n",
    "        self.num_heads = num_heads\n",
    "        self.attention = d2l.DotProductAttention(dropout)\n",
    "        self.W_q = nn.Linear(query_size, num_hiddens, bias=bias)\n",
    "        self.W_k = nn.Linear(key_size, num_hiddens, bias=bias)\n",
    "        self.W_v = nn.Linear(value_size, num_hiddens, bias=bias)\n",
    "        self.W_o = nn.Linear(num_hiddens, num_hiddens, bias=bias)\n",
    "\n",
    "    def forward(self, queries, keys, values, valid_lens): \n",
    "        # Shape of queries, keys, or values:\n",
    "        # (batch_size, no. of queries or key-value pairs, num_hiddens)\n",
    "        # Shape of valid_lens: (batch_size,) or (batch_size, no. of queries)\n",
    "        # After transposing, shape of output queries, keys, or values:\n",
    "        # (batch_size * num_heads, no. of queries or key-value pairs,\n",
    "        # num_hiddens / num_heads)\n",
    "        queries = transpose_qkv(self.W_q(queries), self.num_heads)\n",
    "        keys = transpose_qkv(self.W_k(keys), self.num_heads)\n",
    "        values = transpose_qkv(self.W_v(values), self.num_heads)\n",
    "\n",
    "        if valid_lens is not None:\n",
    "            # On axis 0, copy the first item (scalar or vector) for num_heads\n",
    "            # times, then copy the next item, and so on\n",
    "            valid_lens = torch.repeat_interleave(\n",
    "                valid_lens, repeats=self.num_heads, dim=0)\n",
    "\n",
    "        # Shape of output: (batch_size * num_heads, no. of queries,\n",
    "        # num_hiddens / num_heads)\n",
    "        output = self.attention(queries, keys, values, valid_lens)\n",
    "\n",
    "        # Shape of output_concat: (batch_size, no. of queries, num_hiddens)\n",
    "        output_concat = transpose_output(output, self.num_heads)\n",
    "        return self.W_o(output_concat)"
   ]
  },
  {
   "cell_type": "markdown",
   "id": "a8b57ca8",
   "metadata": {
    "origin_pos": 11
   },
   "source": [
    "To allow for **parallel computation of multiple heads**,\n",
    "the above `MultiHeadAttention` class uses two transposition methods as defined below.\n",
    "Specifically,\n",
    "the `transpose_output` method reverses the operation\n",
    "of the `transpose_qkv` method.\n"
   ]
  },
  {
   "cell_type": "code",
   "execution_count": 6,
   "id": "5a2987be",
   "metadata": {
    "execution": {
     "iopub.execute_input": "2022-12-14T05:43:54.777387Z",
     "iopub.status.busy": "2022-12-14T05:43:54.776979Z",
     "iopub.status.idle": "2022-12-14T05:43:54.783124Z",
     "shell.execute_reply": "2022-12-14T05:43:54.782321Z"
    },
    "origin_pos": 13,
    "tab": [
     "pytorch"
    ]
   },
   "outputs": [],
   "source": [
    "def transpose_qkv(X, num_heads):\n",
    "    \"\"\"Transposition for parallel computation of multiple attention heads.\"\"\"\n",
    "    # Shape of input X: (batch_size, no. of queries or key-value pairs,\n",
    "    # num_hiddens). Shape of output X: (batch_size, no. of queries or\n",
    "    # key-value pairs, num_heads, num_hiddens / num_heads)\n",
    "    X = X.reshape(X.shape[0], X.shape[1], num_heads, -1)\n",
    "\n",
    "    # Shape of output X: (batch_size, num_heads, no. of queries or key-value\n",
    "    # pairs, num_hiddens / num_heads)\n",
    "    X = X.permute(0, 2, 1, 3)\n",
    "\n",
    "    # Shape of output: (batch_size * num_heads, no. of queries or key-value\n",
    "    # pairs, num_hiddens / num_heads)\n",
    "    return X.reshape(-1, X.shape[2], X.shape[3])\n",
    "\n",
    "def transpose_output(X, num_heads):\n",
    "    \"\"\"Reverse the operation of transpose_qkv.\"\"\"\n",
    "    X = X.reshape(-1, num_heads, X.shape[1], X.shape[2])\n",
    "    X = X.permute(0, 2, 1, 3)\n",
    "    return X.reshape(X.shape[0], X.shape[1], -1)"
   ]
  },
  {
   "cell_type": "markdown",
   "id": "9326b0e1",
   "metadata": {
    "origin_pos": 16
   },
   "source": [
    "Let's **test our implemented** `MultiHeadAttention` class\n",
    "using a toy example where keys and values are the same.\n",
    "As a result,\n",
    "the shape of the multi-head attention output\n",
    "is (`batch_size`, `num_queries`, `num_hiddens`).\n"
   ]
  },
  {
   "cell_type": "code",
   "execution_count": 7,
   "id": "7a3c4879",
   "metadata": {
    "execution": {
     "iopub.execute_input": "2022-12-14T05:43:54.786273Z",
     "iopub.status.busy": "2022-12-14T05:43:54.785832Z",
     "iopub.status.idle": "2022-12-14T05:43:54.791611Z",
     "shell.execute_reply": "2022-12-14T05:43:54.790848Z"
    },
    "origin_pos": 18,
    "tab": [
     "pytorch"
    ]
   },
   "outputs": [
    {
     "data": {
      "text/plain": [
       "MultiHeadAttention(\n",
       "  (attention): DotProductAttention(\n",
       "    (dropout): Dropout(p=0.5, inplace=False)\n",
       "  )\n",
       "  (W_q): Linear(in_features=100, out_features=100, bias=False)\n",
       "  (W_k): Linear(in_features=100, out_features=100, bias=False)\n",
       "  (W_v): Linear(in_features=100, out_features=100, bias=False)\n",
       "  (W_o): Linear(in_features=100, out_features=100, bias=False)\n",
       ")"
      ]
     },
     "execution_count": 7,
     "metadata": {},
     "output_type": "execute_result"
    }
   ],
   "source": [
    "num_hiddens, num_heads = 100, 5\n",
    "attention = MultiHeadAttention(num_hiddens, num_hiddens, num_hiddens,\n",
    "                               num_hiddens, num_heads, 0.5)\n",
    "attention.eval()"
   ]
  },
  {
   "cell_type": "code",
   "execution_count": 8,
   "id": "b01ac49b",
   "metadata": {
    "execution": {
     "iopub.execute_input": "2022-12-14T05:43:54.794934Z",
     "iopub.status.busy": "2022-12-14T05:43:54.794278Z",
     "iopub.status.idle": "2022-12-14T05:43:54.827896Z",
     "shell.execute_reply": "2022-12-14T05:43:54.827014Z"
    },
    "origin_pos": 20,
    "tab": [
     "pytorch"
    ]
   },
   "outputs": [
    {
     "data": {
      "text/plain": [
       "torch.Size([2, 4, 100])"
      ]
     },
     "execution_count": 8,
     "metadata": {},
     "output_type": "execute_result"
    }
   ],
   "source": [
    "batch_size, num_queries = 2, 4\n",
    "num_kvpairs, valid_lens =  6, torch.tensor([3, 2])\n",
    "X = torch.ones((batch_size, num_queries, num_hiddens))\n",
    "Y = torch.ones((batch_size, num_kvpairs, num_hiddens))\n",
    "attention(X, Y, Y, valid_lens).shape"
   ]
  },
  {
   "cell_type": "markdown",
   "id": "c0b7f886",
   "metadata": {
    "origin_pos": 23
   },
   "source": [
    "## Summary\n",
    "\n",
    "Multi-head attention combines knowledge of the same attention pooling \n",
    "via different representation subspaces of queries, keys, and values.\n",
    "To compute multiple heads of multi-head attention in parallel, \n",
    "proper tensor manipulation is needed."
   ]
  }
 ],
 "metadata": {
  "kernelspec": {
   "display_name": "Python 3 (ipykernel)",
   "language": "python",
   "name": "python3"
  },
  "language_info": {
   "codemirror_mode": {
    "name": "ipython",
    "version": 3
   },
   "file_extension": ".py",
   "mimetype": "text/x-python",
   "name": "python",
   "nbconvert_exporter": "python",
   "pygments_lexer": "ipython3",
   "version": "3.9.15"
  }
 },
 "nbformat": 4,
 "nbformat_minor": 5
}
