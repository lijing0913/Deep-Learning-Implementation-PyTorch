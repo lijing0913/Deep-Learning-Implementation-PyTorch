{
 "cells": [
  {
   "cell_type": "markdown",
   "id": "c9817231",
   "metadata": {
    "origin_pos": 1
   },
   "source": [
    "# Encoder-Decoder Architecture\n",
    "\n",
    "In general seq2seq problems \n",
    "like machine translation,\n",
    "inputs and outputs are of varying lengths\n",
    "that are unaligned. \n",
    "The standard approach to handling this sort of data\n",
    "is to design an *encoder-decoder* architecture\n",
    "consisting of two major components:\n",
    "an *encoder* that takes a variable-length sequence as input,\n",
    "and a *decoder* that acts as a conditional language model,\n",
    "taking in the encoded input \n",
    "and the leftwards context of the target sequence \n",
    "and predicting the subsequent token in the target sequence. \n",
    "\n",
    "Let's take machine translation from English to French as an example.\n",
    "Given an input sequence in English:\n",
    "\"They\", \"are\", \"watching\", \".\",\n",
    "this encoder-decoder architecture\n",
    "first encodes the variable-length input into a state,\n",
    "then decodes the state \n",
    "to generate the translated sequence,\n",
    "token by token, as output:\n",
    "\"Ils\", \"regardent\", \".\".\n",
    "Since the encoder-decoder architecture\n",
    "forms the basis of different seq2seq models\n",
    "in subsequent sections,\n",
    "this section will convert this architecture\n",
    "into an interface that will be implemented later.\n",
    "\n",
    "## Encoder\n",
    "\n",
    "In the encoder interface,\n",
    "we just specify that\n",
    "the encoder takes variable-length sequences as input `X`.\n",
    "The implementation will be provided \n",
    "by any model that inherits this base `Encoder` class.\n"
   ]
  },
  {
   "cell_type": "code",
   "execution_count": 1,
   "id": "4958f939",
   "metadata": {
    "execution": {
     "iopub.execute_input": "2022-12-14T05:28:41.566047Z",
     "iopub.status.busy": "2022-12-14T05:28:41.565765Z",
     "iopub.status.idle": "2022-12-14T05:28:44.021398Z",
     "shell.execute_reply": "2022-12-14T05:28:44.020241Z"
    },
    "origin_pos": 3,
    "tab": [
     "pytorch"
    ]
   },
   "outputs": [],
   "source": [
    "from torch import nn\n",
    "\n",
    "class Encoder(nn.Module):\n",
    "    \"\"\"The base encoder interface for the encoder-decoder architecture.\"\"\"\n",
    "    def __init__(self, **kwargs):\n",
    "        super(Encoder, self).__init__(**kwargs)\n",
    "    \n",
    "    # Later there can be additional arguments (e.g., length excluding padding)\n",
    "    def forward(self, X, *args):\n",
    "        raise NotImplementedError"
   ]
  },
  {
   "cell_type": "markdown",
   "id": "088e5736",
   "metadata": {
    "origin_pos": 6
   },
   "source": [
    "## Decoder\n",
    "\n",
    "In the following decoder interface,\n",
    "we add an additional `init_state` function\n",
    "to convert the encoder output (`enc_all_outputs`)\n",
    "into the encoded state.\n",
    "Note that this step\n",
    "may require extra inputs,\n",
    "such as the valid length of the input,\n",
    "which was explained\n",
    "in Machine Translation.\n",
    "To generate a variable-length sequence token by token,\n",
    "every time the decoder may map an input \n",
    "(e.g., the generated token at the previous time step)\n",
    "and the encoded state \n",
    "into an output token at the current time step.\n"
   ]
  },
  {
   "cell_type": "code",
   "execution_count": 2,
   "id": "aff7d785",
   "metadata": {
    "execution": {
     "iopub.execute_input": "2022-12-14T05:28:44.025564Z",
     "iopub.status.busy": "2022-12-14T05:28:44.024978Z",
     "iopub.status.idle": "2022-12-14T05:28:44.030932Z",
     "shell.execute_reply": "2022-12-14T05:28:44.029838Z"
    },
    "origin_pos": 8,
    "tab": [
     "pytorch"
    ]
   },
   "outputs": [],
   "source": [
    "class Decoder(nn.Module):  \n",
    "    \"\"\"The base decoder interface for the encoder-decoder architecture.\"\"\"\n",
    "    def __init__(self, **kwargs):\n",
    "        super(Decoder, self).__init__(**kwargs)\n",
    "\n",
    "    # Later there can be additional arguments (e.g., length excluding padding)\n",
    "    def init_state(self, enc_outputs, *args):\n",
    "        raise NotImplementedError\n",
    "\n",
    "    def forward(self, X, state):\n",
    "        raise NotImplementedError"
   ]
  },
  {
   "cell_type": "markdown",
   "id": "87b0ecf1",
   "metadata": {
    "origin_pos": 11
   },
   "source": [
    "## Putting the Encoder and Decoder Together\n",
    "\n",
    "In the forward propagation,\n",
    "the output of the encoder\n",
    "is used to produce the encoded state,\n",
    "and this state will be further used\n",
    "by the decoder as one of its input.\n"
   ]
  },
  {
   "cell_type": "code",
   "execution_count": 4,
   "id": "67dd0c75",
   "metadata": {
    "execution": {
     "iopub.execute_input": "2022-12-14T05:28:44.034062Z",
     "iopub.status.busy": "2022-12-14T05:28:44.033574Z",
     "iopub.status.idle": "2022-12-14T05:28:44.039675Z",
     "shell.execute_reply": "2022-12-14T05:28:44.038547Z"
    },
    "origin_pos": 12,
    "tab": [
     "pytorch"
    ]
   },
   "outputs": [],
   "source": [
    "class EncoderDecoder(nn.Module):\n",
    "    \"\"\"The base class for the encoder-decoder architecture.\"\"\"\n",
    "    def __init__(self, encoder, decoder, **kwargs):\n",
    "        super(EncoderDecoder, self).__init__(**kwargs)\n",
    "        self.encoder = encoder\n",
    "        self.decoder = decoder\n",
    "\n",
    "    def forward(self, enc_X, dec_X, *args):\n",
    "        enc_outputs = self.encoder(enc_X, *args)\n",
    "        dec_state = self.decoder.init_state(enc_outputs, *args)\n",
    "        # return decoder output only\n",
    "        return self.decoder(dec_X, dec_state)"
   ]
  },
  {
   "cell_type": "markdown",
   "id": "7c71031d",
   "metadata": {
    "origin_pos": 15
   },
   "source": [
    "In the next section, \n",
    "we will see how to apply RNNs to design \n",
    "seq2seq models based on \n",
    "this encoder-decoder architecture.\n",
    "\n",
    "\n",
    "## Summary\n",
    "\n",
    "Encoder-decoder architectures\n",
    "can handle inputs and outputs \n",
    "that both consist of variable-length sequences\n",
    "and thus are suitable for seq2seq problems \n",
    "such as machine translation.\n",
    "The encoder takes a variable-length sequence as input \n",
    "and transforms it into a state with a fixed shape.\n",
    "The decoder maps the encoded state of a fixed shape\n",
    "to a variable-length sequence."
   ]
  },
  {
   "cell_type": "code",
   "execution_count": null,
   "id": "08437fef",
   "metadata": {},
   "outputs": [],
   "source": []
  }
 ],
 "metadata": {
  "kernelspec": {
   "display_name": "Python 3 (ipykernel)",
   "language": "python",
   "name": "python3"
  },
  "language_info": {
   "codemirror_mode": {
    "name": "ipython",
    "version": 3
   },
   "file_extension": ".py",
   "mimetype": "text/x-python",
   "name": "python",
   "nbconvert_exporter": "python",
   "pygments_lexer": "ipython3",
   "version": "3.9.15"
  }
 },
 "nbformat": 4,
 "nbformat_minor": 5
}
