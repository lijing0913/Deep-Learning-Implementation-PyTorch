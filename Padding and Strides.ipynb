{
 "cells": [
  {
   "cell_type": "markdown",
   "id": "5e1380c5",
   "metadata": {
    "origin_pos": 1
   },
   "source": [
    "# Padding and Stride\n",
    "\n",
    "Assuming that the input shape is $n_h\\times n_w$\n",
    "and the convolution kernel shape is $k_h\\times k_w$,\n",
    "the output shape will be $(n_h-k_h+1) \\times (n_w-k_w+1)$: \n",
    "we can only shift the convolution kernel so far until it runs out\n",
    "of pixels to apply the convolution to. \n",
    "\n",
    "In general, if we add a total of $p_h$ rows of padding\n",
    "(roughly half on top and half on bottom)\n",
    "and a total of $p_w$ columns of padding\n",
    "(roughly half on the left and half on the right),\n",
    "the output shape will be\n",
    "\n",
    "$$(n_h-k_h+p_h+1)\\times(n_w-k_w+p_w+1).$$\n",
    "\n",
    "This means that the height and width of the output\n",
    "will increase by $p_h$ and $p_w$, respectively.\n",
    "\n",
    "In many cases, we will want to set $p_h=k_h-1$ and $p_w=k_w-1$\n",
    "to give the input and output the same height and width.\n",
    "This will make it easier to predict the output shape of each layer\n",
    "when constructing the network.\n",
    "Assuming that $k_h$ is odd here,\n",
    "we will pad $p_h/2$ rows on both sides of the height.\n",
    "If $k_h$ is even, one possibility is to\n",
    "pad $\\lceil p_h/2\\rceil$ rows on the top of the input\n",
    "and $\\lfloor p_h/2\\rfloor$ rows on the bottom.\n",
    "We will pad both sides of the width in the same way.\n",
    "\n",
    "CNNs commonly use convolution kernels\n",
    "with odd height and width values, such as 1, 3, 5, or 7.\n",
    "Choosing odd kernel sizes has the benefit\n",
    "that we can preserve the dimensionality\n",
    "while padding with the same number of rows on top and bottom,\n",
    "and the same number of columns on left and right.\n",
    "\n",
    "Moreover, this practice of using odd kernels\n",
    "and padding to precisely preserve dimensionality\n",
    "offers a clerical benefit.\n",
    "For any two-dimensional tensor `X`,\n",
    "when the kernel's size is odd\n",
    "and the number of padding rows and columns\n",
    "on all sides are the same,\n",
    "producing an output with the same height and width as the input,\n",
    "we know that the output `Y[i, j]` is calculated\n",
    "by cross-correlation of the input and convolution kernel\n",
    "with the window centered on `X[i, j]`.\n",
    "\n",
    "In the following example, we create a two-dimensional convolutional layer\n",
    "with a height and width of 3\n",
    "and **apply 1 pixel of padding on all sides.**\n",
    "Given an input with a height and width of 8,\n",
    "we find that the height and width of the output is also 8."
   ]
  },
  {
   "cell_type": "code",
   "execution_count": 1,
   "id": "7696f242",
   "metadata": {},
   "outputs": [],
   "source": [
    "import torch\n",
    "from torch import nn"
   ]
  },
  {
   "cell_type": "code",
   "execution_count": 3,
   "id": "d9ce394d",
   "metadata": {},
   "outputs": [
    {
     "data": {
      "text/plain": [
       "torch.Size([8, 8])"
      ]
     },
     "execution_count": 3,
     "metadata": {},
     "output_type": "execute_result"
    }
   ],
   "source": [
    "def comp_conv2d(conv2d, X):\n",
    "    # (1, 1) indicates that batch size and the number of channels are both 1\n",
    "    X = X.reshape((1, 1) + X.shape) # (batch_size, channel, height, width)\n",
    "    Y = conv2d(X)\n",
    "    # Strip the first two dimensions: examples and channels\n",
    "    return Y.reshape(Y.shape[2:]) # (batch_size, channel, height, width)\n",
    "\n",
    "# 1 row and column is padded on either side, so a total of 2 rows or columns are added\n",
    "conv2d = nn.Conv2d(1, 1, kernel_size=3, padding=1) # (batch_size, channel, kernel_size, padding)\n",
    "X = torch.rand(size=(8, 8))\n",
    "comp_conv2d(conv2d, X).shape"
   ]
  },
  {
   "cell_type": "markdown",
   "id": "38cb58a4",
   "metadata": {},
   "source": [
    "When the height and width of the convolution kernel are different, we can make the output and input have the same height and width by **setting different padding numbers for height and width**."
   ]
  },
  {
   "cell_type": "code",
   "execution_count": 4,
   "id": "3021df7b",
   "metadata": {},
   "outputs": [
    {
     "data": {
      "text/plain": [
       "torch.Size([8, 8])"
      ]
     },
     "execution_count": 4,
     "metadata": {},
     "output_type": "execute_result"
    }
   ],
   "source": [
    "# We use a convolution kernel with height 5 and width 3. \n",
    "# The padding on either side of the height and width are 2 and 1, respectively\n",
    "conv2d = nn.Conv2d(1, 1, kernel_size=(5, 3), padding=(2, 1))\n",
    "comp_conv2d(conv2d, X).shape"
   ]
  },
  {
   "cell_type": "markdown",
   "id": "fc1c49dc",
   "metadata": {},
   "source": [
    "## Stride\n",
    "\n",
    "In general, when the stride for the height is $s_h$\n",
    "and the stride for the width is $s_w$, the output shape is\n",
    "\n",
    "$$\\lfloor(n_h-k_h+p_h+s_h)/s_h\\rfloor \\times \\lfloor(n_w-k_w+p_w+s_w)/s_w\\rfloor.$$\n",
    "\n",
    "If we set $p_h=k_h-1$ and $p_w=k_w-1$,\n",
    "then the output shape can be simplified to\n",
    "$\\lfloor(n_h+s_h-1)/s_h\\rfloor \\times \\lfloor(n_w+s_w-1)/s_w\\rfloor$.\n",
    "Going a step further, if the input height and width\n",
    "are divisible by the strides on the height and width,\n",
    "then the output shape will be $(n_h/s_h) \\times (n_w/s_w)$.\n",
    "\n",
    "Below, we **set the strides on both the height and width to 2**,\n",
    "thus halving the input height and width."
   ]
  },
  {
   "cell_type": "code",
   "execution_count": 5,
   "id": "4ae6814b",
   "metadata": {},
   "outputs": [
    {
     "data": {
      "text/plain": [
       "torch.Size([4, 4])"
      ]
     },
     "execution_count": 5,
     "metadata": {},
     "output_type": "execute_result"
    }
   ],
   "source": [
    "conv2d = nn.Conv2d(1, 1, kernel_size=3, padding=1, stride=2)\n",
    "comp_conv2d(conv2d, X).shape"
   ]
  },
  {
   "cell_type": "markdown",
   "id": "7fb8368d",
   "metadata": {},
   "source": [
    "A slightly more complicated example."
   ]
  },
  {
   "cell_type": "code",
   "execution_count": 7,
   "id": "0203e019",
   "metadata": {},
   "outputs": [
    {
     "data": {
      "text/plain": [
       "torch.Size([2, 2])"
      ]
     },
     "execution_count": 7,
     "metadata": {},
     "output_type": "execute_result"
    }
   ],
   "source": [
    "conv2d = nn.Conv2d(1, 1, kernel_size=(3, 5), padding=(0, 1), stride=(3, 4))\n",
    "comp_conv2d(conv2d, X).shape # (8-3+0*2+3)/3=2.33, (8-5+1*2+4)/4=2.25"
   ]
  },
  {
   "cell_type": "code",
   "execution_count": null,
   "id": "68da6367",
   "metadata": {},
   "outputs": [],
   "source": []
  }
 ],
 "metadata": {
  "kernelspec": {
   "display_name": "Python 3 (ipykernel)",
   "language": "python",
   "name": "python3"
  },
  "language_info": {
   "codemirror_mode": {
    "name": "ipython",
    "version": 3
   },
   "file_extension": ".py",
   "mimetype": "text/x-python",
   "name": "python",
   "nbconvert_exporter": "python",
   "pygments_lexer": "ipython3",
   "version": "3.9.15"
  }
 },
 "nbformat": 4,
 "nbformat_minor": 5
}
