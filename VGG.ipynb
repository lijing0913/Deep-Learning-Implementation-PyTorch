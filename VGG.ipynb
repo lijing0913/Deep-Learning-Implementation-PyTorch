{
 "cells": [
  {
   "cell_type": "markdown",
   "id": "5e1380c5",
   "metadata": {
    "origin_pos": 1
   },
   "source": [
    "# VGG (Networks Using Blocks)\n"
   ]
  },
  {
   "cell_type": "code",
   "execution_count": 3,
   "id": "0198fb28",
   "metadata": {
    "execution": {
     "iopub.execute_input": "2022-12-14T05:41:35.617912Z",
     "iopub.status.busy": "2022-12-14T05:41:35.617636Z",
     "iopub.status.idle": "2022-12-14T05:41:37.876131Z",
     "shell.execute_reply": "2022-12-14T05:41:37.875242Z"
    },
    "origin_pos": 3,
    "tab": [
     "pytorch"
    ]
   },
   "outputs": [],
   "source": [
    "import torch\n",
    "from torch import nn\n",
    "from d2l import torch as d2l"
   ]
  },
  {
   "cell_type": "markdown",
   "id": "4dd8611c",
   "metadata": {},
   "source": [
    "## Model\n",
    "\n",
    "### VGG Blocks\n",
    "\n",
    "A VGG block consists of a sequence of convolutions with  3×3  kernels with padding of 1 (keeping height and width) followed by a  2×2  max-pooling layer with stride of 2 (halving height and width after each block). "
   ]
  },
  {
   "cell_type": "code",
   "execution_count": 9,
   "id": "0eb3843d",
   "metadata": {},
   "outputs": [],
   "source": [
    "def vgg_block(num_convs, in_channels, out_channels):\n",
    "    layers = []\n",
    "    for _ in range(num_convs):\n",
    "        layers.append(nn.Conv2d(in_channels, out_channels, kernel_size=3, padding=1))\n",
    "        layers.append(nn.ReLU())\n",
    "        in_channels = out_channels\n",
    "    layers.append(nn.MaxPool2d(kernel_size=2, stride=2))\n",
    "    return nn.Sequential(*layers) ###"
   ]
  },
  {
   "cell_type": "markdown",
   "id": "1d52572b",
   "metadata": {},
   "source": [
    "### VGG Network"
   ]
  },
  {
   "cell_type": "code",
   "execution_count": 10,
   "id": "8c484715",
   "metadata": {},
   "outputs": [],
   "source": [
    "# 5 VGG blocks\n",
    "# why 5 blocks? since each VGG block halve height and width after each block, so 224 / (2**5) = 7\n",
    "# VGG-11: 8 convolutional layers + 3 fully connected layers\n",
    "conv_arch = ((1, 64), (1, 128), (2, 256), (2, 512), (2, 512)) \n",
    "\n",
    "def vgg(conv_arch):\n",
    "    conv_blks = []\n",
    "    in_channels = 1\n",
    "    for (num_convs, out_channels) in conv_arch:\n",
    "        conv_blks.append(vgg_block(num_convs, in_channels, out_channels))\n",
    "        in_channels = out_channels\n",
    "    return nn.Sequential(\n",
    "        *conv_blks, nn.Flatten(), ####\n",
    "        nn.Linear(out_channels * 7 * 7, 4096), nn.ReLU(), nn.Dropout(p=0.5),\n",
    "        nn.Linear(4096, 4096), nn.ReLU(), nn.Dropout(p=0.5),\n",
    "        nn.Linear(4096, 10))\n",
    "\n",
    "net = vgg(conv_arch)"
   ]
  },
  {
   "cell_type": "markdown",
   "id": "7764113d",
   "metadata": {},
   "source": [
    "View the model"
   ]
  },
  {
   "cell_type": "code",
   "execution_count": 11,
   "id": "9c2cecc8",
   "metadata": {
    "scrolled": false
   },
   "outputs": [
    {
     "name": "stdout",
     "output_type": "stream",
     "text": [
      "Sequential output shape: \t torch.Size([1, 64, 112, 112])\n",
      "Sequential output shape: \t torch.Size([1, 128, 56, 56])\n",
      "Sequential output shape: \t torch.Size([1, 256, 28, 28])\n",
      "Sequential output shape: \t torch.Size([1, 512, 14, 14])\n",
      "Sequential output shape: \t torch.Size([1, 512, 7, 7])\n",
      "Flatten output shape: \t torch.Size([1, 25088])\n",
      "Linear output shape: \t torch.Size([1, 4096])\n",
      "ReLU output shape: \t torch.Size([1, 4096])\n",
      "Dropout output shape: \t torch.Size([1, 4096])\n",
      "Linear output shape: \t torch.Size([1, 4096])\n",
      "ReLU output shape: \t torch.Size([1, 4096])\n",
      "Dropout output shape: \t torch.Size([1, 4096])\n",
      "Linear output shape: \t torch.Size([1, 10])\n"
     ]
    }
   ],
   "source": [
    "X = torch.rand(size=(1, 1, 224, 224), dtype=torch.float32)\n",
    "for blk in net:\n",
    "    X = blk(X)\n",
    "    print(blk.__class__.__name__, 'output shape: \\t', X.shape)"
   ]
  },
  {
   "cell_type": "markdown",
   "id": "d880f75b",
   "metadata": {},
   "source": [
    "512 * 7 * 7 = 25088"
   ]
  },
  {
   "cell_type": "markdown",
   "id": "d088dfcd",
   "metadata": {},
   "source": [
    "## Training\n",
    "\n",
    "Test on the Fashion-MNIST dataset.\n",
    "\n",
    "**Since VGG-11 is computationally more demanding than AlexNet\n",
    "we construct a network with a smaller number of channels.**\n",
    "This is more than sufficient for training on Fashion-MNIST.\n",
    "The **model training** process is similar to that of AlexNet. \n",
    "Again observe the close match between validation and training loss, \n",
    "suggesting only a small amount of overfitting.\n"
   ]
  },
  {
   "cell_type": "code",
   "execution_count": 14,
   "id": "edd3b3b3",
   "metadata": {},
   "outputs": [],
   "source": [
    "ratio = 4\n",
    "small_conv_arch = [(pair[0], pair[1] // ratio) for pair in conv_arch]\n",
    "net = vgg(small_conv_arch)"
   ]
  },
  {
   "cell_type": "code",
   "execution_count": null,
   "id": "39380c1e",
   "metadata": {},
   "outputs": [],
   "source": [
    "lr, num_epochs, batch_size = 0.05, 10, 128\n",
    "train_iter, test_iter = d2l.load_data_fashion_mnist(batch_size, resize=224)\n",
    "d2l.train_ch6(net, train_iter, test_iter, num_epochs, lr, d2l.try_gpu())"
   ]
  }
 ],
 "metadata": {
  "kernelspec": {
   "display_name": "Python 3 (ipykernel)",
   "language": "python",
   "name": "python3"
  },
  "language_info": {
   "codemirror_mode": {
    "name": "ipython",
    "version": 3
   },
   "file_extension": ".py",
   "mimetype": "text/x-python",
   "name": "python",
   "nbconvert_exporter": "python",
   "pygments_lexer": "ipython3",
   "version": "3.9.15"
  }
 },
 "nbformat": 4,
 "nbformat_minor": 5
}
