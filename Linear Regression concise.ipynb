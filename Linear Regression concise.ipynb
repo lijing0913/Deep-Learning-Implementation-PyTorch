{
 "cells": [
  {
   "cell_type": "markdown",
   "id": "5e1380c5",
   "metadata": {
    "origin_pos": 1
   },
   "source": [
    "# Concise Implementation of Linear Regression"
   ]
  },
  {
   "cell_type": "code",
   "execution_count": 15,
   "id": "0198fb28",
   "metadata": {
    "execution": {
     "iopub.execute_input": "2022-12-14T05:41:35.617912Z",
     "iopub.status.busy": "2022-12-14T05:41:35.617636Z",
     "iopub.status.idle": "2022-12-14T05:41:37.876131Z",
     "shell.execute_reply": "2022-12-14T05:41:37.875242Z"
    },
    "origin_pos": 3,
    "tab": [
     "pytorch"
    ]
   },
   "outputs": [],
   "source": [
    "import numpy as np\n",
    "import torch\n",
    "from torch.utils import data\n",
    "from d2l import torch as d2l # d2l package encapsulates frequently used functions and classes found throughout this book"
   ]
  },
  {
   "cell_type": "code",
   "execution_count": 3,
   "id": "8fb0255b",
   "metadata": {},
   "outputs": [],
   "source": [
    "true_w = torch.tensor([2, -3.4])\n",
    "true_b = 4.2\n",
    "features, labels = d2l.synthetic_data(true_w, true_b, 1000)\n",
    "\n",
    "\"\"\"\n",
    "def synthetic_data(w, b, num_examples):\n",
    "    X = torch.normal(0, 1, (num_examples, len(w)))\n",
    "    y = torch.matmul(X, w) + b\n",
    "    # add noise\n",
    "    y += torch.normal(0, 0.01, y.shape)\n",
    "    return X, y.reshape((-1, 1)) # convert y to a column vector\n",
    "\"\"\""
   ]
  },
  {
   "cell_type": "markdown",
   "id": "8360efce",
   "metadata": {},
   "source": [
    "## Reading the Dataset"
   ]
  },
  {
   "cell_type": "code",
   "execution_count": 5,
   "id": "1e211832",
   "metadata": {},
   "outputs": [
    {
     "data": {
      "text/plain": [
       "[tensor([[-1.0251, -1.3380],\n",
       "         [ 1.5815, -0.2346],\n",
       "         [-0.6091, -1.1007],\n",
       "         [-0.9915, -1.0682],\n",
       "         [-0.1540, -0.9633],\n",
       "         [ 0.6280,  0.8553],\n",
       "         [-0.6383, -0.1488],\n",
       "         [-1.6968,  0.4117],\n",
       "         [ 1.8827,  1.6533],\n",
       "         [-0.5044,  0.0290]]),\n",
       " tensor([[ 6.6887],\n",
       "         [ 8.1532],\n",
       "         [ 6.7275],\n",
       "         [ 5.8592],\n",
       "         [ 7.1709],\n",
       "         [ 2.5486],\n",
       "         [ 3.4317],\n",
       "         [-0.5994],\n",
       "         [ 2.3552],\n",
       "         [ 3.1014]])]"
      ]
     },
     "execution_count": 5,
     "metadata": {},
     "output_type": "execute_result"
    }
   ],
   "source": [
    "def load_array(data_arrays, batch_size, is_train=True):\n",
    "    \"\"\"Formulate data iterator\"\"\"\n",
    "    dataset = data.TensorDataset(*data_arrays)\n",
    "    return data.DataLoader(dataset, batch_size, shuffle=is_train)\n",
    "\n",
    "batch_size = 10\n",
    "data_iter = load_array((features, labels), batch_size)\n",
    "\n",
    "next(iter(data_iter))"
   ]
  },
  {
   "cell_type": "markdown",
   "id": "4ebb69f5",
   "metadata": {},
   "source": [
    "## Defining the Model "
   ]
  },
  {
   "cell_type": "code",
   "execution_count": 7,
   "id": "9ea8cb91",
   "metadata": {},
   "outputs": [],
   "source": [
    "from torch import nn\n",
    "\n",
    "net = nn.Sequential(nn.Linear(2, 1)) # nn.Linear(input_dim, output_dim)"
   ]
  },
  {
   "cell_type": "markdown",
   "id": "1d523426",
   "metadata": {},
   "source": [
    "## Initializing Model Parameters"
   ]
  },
  {
   "cell_type": "code",
   "execution_count": 9,
   "id": "3c368bfb",
   "metadata": {},
   "outputs": [
    {
     "data": {
      "text/plain": [
       "tensor([0.])"
      ]
     },
     "execution_count": 9,
     "metadata": {},
     "output_type": "execute_result"
    }
   ],
   "source": [
    "net[0].weight.data.normal_(0, 0.01)\n",
    "net[0].bias.data.fill_(0)"
   ]
  },
  {
   "cell_type": "markdown",
   "id": "e2ba89c8",
   "metadata": {
    "origin_pos": 11
   },
   "source": [
    "## Defining the Loss Function"
   ]
  },
  {
   "cell_type": "code",
   "execution_count": 10,
   "id": "6febc46f",
   "metadata": {
    "execution": {
     "iopub.execute_input": "2022-12-14T05:41:37.895956Z",
     "iopub.status.busy": "2022-12-14T05:41:37.895555Z",
     "iopub.status.idle": "2022-12-14T05:41:37.899789Z",
     "shell.execute_reply": "2022-12-14T05:41:37.898861Z"
    },
    "origin_pos": 12,
    "tab": [
     "pytorch"
    ]
   },
   "outputs": [],
   "source": [
    "loss = nn.MSELoss()"
   ]
  },
  {
   "cell_type": "markdown",
   "id": "72332448",
   "metadata": {
    "origin_pos": 14
   },
   "source": [
    "## Defining the Optimization Algorithm"
   ]
  },
  {
   "cell_type": "code",
   "execution_count": 13,
   "id": "8e54a2da",
   "metadata": {
    "execution": {
     "iopub.execute_input": "2022-12-14T05:41:37.903493Z",
     "iopub.status.busy": "2022-12-14T05:41:37.902858Z",
     "iopub.status.idle": "2022-12-14T05:41:37.908352Z",
     "shell.execute_reply": "2022-12-14T05:41:37.907572Z"
    },
    "origin_pos": 18,
    "tab": [
     "pytorch"
    ]
   },
   "outputs": [],
   "source": [
    "trainer = torch.optim.SGD(net.parameters(), lr=0.03) # net.parameters include nn.weight and nn.bias"
   ]
  },
  {
   "cell_type": "markdown",
   "id": "dedb1e56",
   "metadata": {
    "origin_pos": 23
   },
   "source": [
    "## Training"
   ]
  },
  {
   "cell_type": "code",
   "execution_count": 14,
   "id": "4548938f",
   "metadata": {
    "execution": {
     "iopub.execute_input": "2022-12-14T05:41:37.919028Z",
     "iopub.status.busy": "2022-12-14T05:41:37.918497Z",
     "iopub.status.idle": "2022-12-14T05:41:37.922368Z",
     "shell.execute_reply": "2022-12-14T05:41:37.921454Z"
    },
    "origin_pos": 24,
    "tab": [
     "pytorch"
    ]
   },
   "outputs": [
    {
     "name": "stdout",
     "output_type": "stream",
     "text": [
      "epoch 1, loss0.000234\n",
      "epoch 2, loss0.000106\n",
      "epoch 3, loss0.000107\n"
     ]
    }
   ],
   "source": [
    "num_epochs = 3\n",
    "\n",
    "for epoch in range(num_epochs):\n",
    "    for X, y in data_iter:\n",
    "        l = loss(net(X), y)\n",
    "        trainer.zero_grad()\n",
    "        l.backward()\n",
    "        trainer.step()\n",
    "    l = loss(net(features), labels)\n",
    "#     print(f'epoch {epoch + 1}, loss{l:f}')\n",
    "    # orr\n",
    "    print('epoch {}, loss{:.6f}'.format(epoch + 1, l))"
   ]
  },
  {
   "cell_type": "code",
   "execution_count": null,
   "id": "05dc174a",
   "metadata": {},
   "outputs": [],
   "source": []
  }
 ],
 "metadata": {
  "kernelspec": {
   "display_name": "Python 3 (ipykernel)",
   "language": "python",
   "name": "python3"
  },
  "language_info": {
   "codemirror_mode": {
    "name": "ipython",
    "version": 3
   },
   "file_extension": ".py",
   "mimetype": "text/x-python",
   "name": "python",
   "nbconvert_exporter": "python",
   "pygments_lexer": "ipython3",
   "version": "3.9.15"
  }
 },
 "nbformat": 4,
 "nbformat_minor": 5
}
